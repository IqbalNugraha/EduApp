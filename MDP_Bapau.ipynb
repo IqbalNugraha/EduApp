{
  "nbformat": 4,
  "nbformat_minor": 0,
  "metadata": {
    "colab": {
      "provenance": [],
      "collapsed_sections": [
        "C4MdQJu76BVJ"
      ],
      "include_colab_link": true
    },
    "kernelspec": {
      "name": "python3",
      "display_name": "Python 3"
    },
    "language_info": {
      "name": "python"
    }
  },
  "cells": [
    {
      "cell_type": "markdown",
      "metadata": {
        "id": "view-in-github",
        "colab_type": "text"
      },
      "source": [
        "<a href=\"https://colab.research.google.com/github/IqbalNugraha/EduApp/blob/main/MDP_Bapau.ipynb\" target=\"_parent\"><img src=\"https://colab.research.google.com/assets/colab-badge.svg\" alt=\"Open In Colab\"/></a>"
      ]
    },
    {
      "cell_type": "code",
      "execution_count": 23,
      "metadata": {
        "id": "JV0xuOnaj46a"
      },
      "outputs": [],
      "source": [
        "import pandas as pd\n",
        "import math\n",
        "import numpy as np\n",
        "from sklearn.model_selection import train_test_split\n",
        "from sklearn.metrics import accuracy_score"
      ]
    },
    {
      "cell_type": "markdown",
      "source": [
        "# Dataset"
      ],
      "metadata": {
        "id": "C4MdQJu76BVJ"
      }
    },
    {
      "cell_type": "code",
      "source": [
        "!gdown \"12KUoK2OfjkRvR7kXmvRVNTlL6Sgr1Duz\""
      ],
      "metadata": {
        "colab": {
          "base_uri": "https://localhost:8080/"
        },
        "id": "2x5qb6JYlBAH",
        "outputId": "961c3f59-3a7a-4665-b98d-03763417c10e"
      },
      "execution_count": 24,
      "outputs": [
        {
          "output_type": "stream",
          "name": "stdout",
          "text": [
            "Downloading...\n",
            "From: https://drive.google.com/uc?id=12KUoK2OfjkRvR7kXmvRVNTlL6Sgr1Duz\n",
            "To: /content/Heart_Disease_Prediction.xlsx\n",
            "\r  0% 0.00/27.1k [00:00<?, ?B/s]\r100% 27.1k/27.1k [00:00<00:00, 35.3MB/s]\n"
          ]
        }
      ]
    },
    {
      "cell_type": "code",
      "source": [
        "dataset = pd.read_excel('/content/Heart_Disease_Prediction.xlsx')\n",
        "dataset.head"
      ],
      "metadata": {
        "colab": {
          "base_uri": "https://localhost:8080/"
        },
        "id": "ZjnqZAvarMSE",
        "outputId": "b3c4b35e-2168-41d3-9f70-5abb944a9a4d"
      },
      "execution_count": 25,
      "outputs": [
        {
          "output_type": "execute_result",
          "data": {
            "text/plain": [
              "<bound method NDFrame.head of      Age  Sex  Chest pain type   BP  Cholesterol  FBS over 120  EKG results  \\\n",
              "0     70    1                4  130          322             0            2   \n",
              "1     67    0                3  115          564             0            2   \n",
              "2     57    1                2  124          261             0            0   \n",
              "3     64    1                4  128          263             0            0   \n",
              "4     74    0                2  120          269             0            2   \n",
              "..   ...  ...              ...  ...          ...           ...          ...   \n",
              "265   52    1                3  172          199             1            0   \n",
              "266   44    1                2  120          263             0            0   \n",
              "267   56    0                2  140          294             0            2   \n",
              "268   57    1                4  140          192             0            0   \n",
              "269   67    1                4  160          286             0            2   \n",
              "\n",
              "     Max HR  Exercise angina  ST depression  Slope of ST  \\\n",
              "0       109                0            2.4            2   \n",
              "1       160                0            1.6            2   \n",
              "2       141                0            0.3            1   \n",
              "3       105                1            0.2            2   \n",
              "4       121                1            0.2            1   \n",
              "..      ...              ...            ...          ...   \n",
              "265     162                0            0.5            1   \n",
              "266     173                0            0.0            1   \n",
              "267     153                0            1.3            2   \n",
              "268     148                0            0.4            2   \n",
              "269     108                1            1.5            2   \n",
              "\n",
              "     Number of vessels fluro  Thallium Class Heart Disease  \n",
              "0                          3         3            Presence  \n",
              "1                          0         7             Absence  \n",
              "2                          0         7            Presence  \n",
              "3                          1         7             Absence  \n",
              "4                          1         3             Absence  \n",
              "..                       ...       ...                 ...  \n",
              "265                        0         7             Absence  \n",
              "266                        0         7             Absence  \n",
              "267                        0         3             Absence  \n",
              "268                        0         6             Absence  \n",
              "269                        3         3            Presence  \n",
              "\n",
              "[270 rows x 14 columns]>"
            ]
          },
          "metadata": {},
          "execution_count": 25
        }
      ]
    },
    {
      "cell_type": "code",
      "source": [
        "print(dataset.shape[0]) #banyaknya data pada dataset\n",
        "print(dataset.shape[1]) #banyaknya kolom pada dataset"
      ],
      "metadata": {
        "colab": {
          "base_uri": "https://localhost:8080/"
        },
        "id": "A4Sugatoru7U",
        "outputId": "2a2ef8fd-3a07-4f41-e2c4-5a58dcfb2245"
      },
      "execution_count": 26,
      "outputs": [
        {
          "output_type": "stream",
          "name": "stdout",
          "text": [
            "270\n",
            "14\n"
          ]
        }
      ]
    },
    {
      "cell_type": "code",
      "source": [
        "dataset = dataset.to_numpy() #mengubah dataset menjadi array"
      ],
      "metadata": {
        "id": "dvJYrHLZr1Ac"
      },
      "execution_count": 27,
      "outputs": []
    },
    {
      "cell_type": "markdown",
      "source": [
        "# Normalisasi Z-Score"
      ],
      "metadata": {
        "id": "FOvTnJOC6TTz"
      }
    },
    {
      "cell_type": "markdown",
      "source": [
        "## Mencari Mean"
      ],
      "metadata": {
        "id": "HWiGJ-656WvC"
      }
    },
    {
      "cell_type": "code",
      "source": [
        "hasil_sum = []\n",
        "hasil_mean = []\n",
        "\n",
        "def hitung_sum(): #fungsi untuk mencari jumlah data tiap dataset\n",
        "  sum = 0\n",
        "  for i in range(dataset.shape[1]-1): #banyaknya dataset \n",
        "    for j in range(dataset.shape[0]): #banyaknya data pada dataset\n",
        "      sum += dataset[j][i]\n",
        "    hasil_sum.append(sum)\n",
        "    sum = 0\n",
        "  return hasil_sum\n",
        "\n",
        "def hitung_mean():\n",
        "  for i in hasil_sum:\n",
        "    x = i / dataset.shape[0]\n",
        "    hasil_mean.append(x)\n",
        "  return hasil_mean\n",
        "\n",
        "hitung_sum()\n",
        "hitung_mean()\n",
        "\n",
        "\n",
        "print(hasil_mean)"
      ],
      "metadata": {
        "colab": {
          "base_uri": "https://localhost:8080/"
        },
        "id": "-9z1RMvGr42l",
        "outputId": "42096ed2-cfa2-4e57-b1fd-eb95bf74f604"
      },
      "execution_count": 28,
      "outputs": [
        {
          "output_type": "stream",
          "name": "stdout",
          "text": [
            "[54.43333333333333, 0.6777777777777778, 3.174074074074074, 131.34444444444443, 249.65925925925927, 0.14814814814814814, 1.0222222222222221, 149.67777777777778, 0.3296296296296296, 1.0499999999999996, 1.5851851851851853, 0.6703703703703704, 4.696296296296296]\n"
          ]
        }
      ]
    },
    {
      "cell_type": "markdown",
      "source": [
        "## Mencari Standar Deviasi"
      ],
      "metadata": {
        "id": "I7HZDFh_6bCT"
      }
    },
    {
      "cell_type": "code",
      "source": [
        "#MENGGUNAKAN STANDAR DEVIASI\n",
        "hasil_stdev = []\n",
        "\n",
        "def cari_stdev():\n",
        "  sigma = 0\n",
        "  for i in range(dataset.shape[1]-1):\n",
        "    for j in range(dataset.shape[0]):\n",
        "      x = (dataset[j][i] - hasil_mean[i])**2\n",
        "      sigma += x\n",
        "    y = sigma / dataset.shape[0]\n",
        "    z = math.sqrt(y)\n",
        "    hasil_stdev.append(z)\n",
        "    sigma = 0\n",
        "  return hasil_stdev\n",
        "\n",
        "hasil_stdev = cari_stdev()\n",
        "\n",
        "print(hasil_stdev)"
      ],
      "metadata": {
        "colab": {
          "base_uri": "https://localhost:8080/"
        },
        "id": "MgefV0U7r9G8",
        "outputId": "980670fd-5d79-449c-a23b-6260c2cd507d"
      },
      "execution_count": 29,
      "outputs": [
        {
          "output_type": "stream",
          "name": "stdout",
          "text": [
            "[9.092182234083173, 0.46732757432918076, 0.9483289758121298, 17.828500556658305, 51.59043307277515, 0.35524677950464534, 0.9960415480451108, 23.122777504144537, 0.4700786496958387, 1.1430871131056235, 0.613251023283532, 0.9421468057402346, 1.9370618226585041]\n"
          ]
        }
      ]
    },
    {
      "cell_type": "markdown",
      "source": [
        "## Menghitung Z-Score"
      ],
      "metadata": {
        "id": "vyNQZAAt6gAy"
      }
    },
    {
      "cell_type": "code",
      "source": [
        "def normalisasi_z_score():\n",
        "  for i in range(dataset.shape[1]-1):\n",
        "    for j in range(dataset.shape[0]):\n",
        "      x = (dataset[j][i] - hasil_mean[i])/hasil_stdev[i]\n",
        "      dataset[j][i] = x\n",
        "\n",
        "normalisasi_z_score()\n",
        "\n",
        "print(dataset)"
      ],
      "metadata": {
        "colab": {
          "base_uri": "https://localhost:8080/"
        },
        "id": "UC5QjPLxsAoM",
        "outputId": "6ffca660-be19-488d-df69-a9dc4d0f471e"
      },
      "execution_count": 30,
      "outputs": [
        {
          "output_type": "stream",
          "name": "stdout",
          "text": [
            "[[1.712093561907843 0.6894996998299359 0.8709276495728918 ...\n",
            "  2.4726821928767935 -0.875705811995318 'Presence']\n",
            " [1.3821397705337406 -1.4503269548146929 -0.18355874228666325 ...\n",
            "  -0.7115349394446735 1.1892773254608906 'Absence']\n",
            " [0.2822937992867324 0.6894996998299359 -1.2380451341462182 ...\n",
            "  -0.7115349394446735 1.1892773254608906 'Presence']\n",
            " ...\n",
            " [0.17230920216203163 -1.4503269548146929 -1.2380451341462182 ...\n",
            "  -0.7115349394446735 -0.875705811995318 'Absence']\n",
            " [0.2822937992867324 0.6894996998299359 0.8709276495728918 ...\n",
            "  -0.7115349394446735 0.6730315410968385 'Absence']\n",
            " [1.3821397705337406 0.6894996998299359 0.8709276495728918 ...\n",
            "  2.4726821928767935 -0.875705811995318 'Presence']]\n"
          ]
        }
      ]
    },
    {
      "cell_type": "markdown",
      "source": [
        "# Pengujian Dataset"
      ],
      "metadata": {
        "id": "raKZxsjQ6lni"
      }
    },
    {
      "cell_type": "markdown",
      "source": [
        "## Membagi Data Uji dan Data Latih"
      ],
      "metadata": {
        "id": "0bEedboK6sQ6"
      }
    },
    {
      "cell_type": "code",
      "source": [
        "train, test = train_test_split(dataset, test_size = 0.2) #data uji diambil secara acak sebanyak 1%"
      ],
      "metadata": {
        "id": "hm9CCvrgsELL"
      },
      "execution_count": 31,
      "outputs": []
    },
    {
      "cell_type": "code",
      "source": [
        "def Euclidean_distance(test_row, train_row):\n",
        "    distance = 0\n",
        "    for i in range(len(test_row)-1):\n",
        "        distance += (test_row[i] - train_row[i])**2\n",
        "    return math.sqrt(distance)\n",
        "\n",
        "def Get_Neighbors(train, test_row, num):\n",
        "    distance = list() # []\n",
        "    data = []\n",
        "    for i in train:\n",
        "        dist = Euclidean_distance(test_row, i)\n",
        "        distance.append(dist)\n",
        "        data.append(i)\n",
        "    distance = np.array(distance)\n",
        "    data = np.array(data)\n",
        "    index_dist = distance.argsort()\n",
        "    data = data[index_dist]\n",
        "    neighbors = data[:num]\n",
        "    \n",
        "    return neighbors\n",
        "\n",
        "def predict_classification(train, test_row, num):\n",
        "    Neighbors = Get_Neighbors(train, test_row, num)\n",
        "    Classes = []\n",
        "    for i in Neighbors:\n",
        "        Classes.append(i[-1])\n",
        "    prediction = max(Classes, key= Classes.count)\n",
        "    return prediction\n",
        "\n",
        "kelas_prediksi = []\n",
        "\n",
        "for i in test:\n",
        "  predict = predict_classification(train, i, 5)\n",
        "  kelas_prediksi.append(predict)\n",
        "\n",
        "print(kelas_prediksi)"
      ],
      "metadata": {
        "colab": {
          "base_uri": "https://localhost:8080/"
        },
        "id": "sqc97qV0sGdk",
        "outputId": "c007f876-d4ed-4040-8a7a-beb86e1c1b5e"
      },
      "execution_count": 34,
      "outputs": [
        {
          "output_type": "stream",
          "name": "stdout",
          "text": [
            "['Absence', 'Absence', 'Absence', 'Absence', 'Absence', 'Presence', 'Presence', 'Absence', 'Absence', 'Absence', 'Absence', 'Absence', 'Presence', 'Presence', 'Presence', 'Absence', 'Presence', 'Presence', 'Absence', 'Absence', 'Absence', 'Presence', 'Presence', 'Presence', 'Presence', 'Absence', 'Absence', 'Absence', 'Presence', 'Absence', 'Presence', 'Absence', 'Presence', 'Presence', 'Presence', 'Absence', 'Presence', 'Absence', 'Absence', 'Absence', 'Presence', 'Presence', 'Absence', 'Presence', 'Presence', 'Absence', 'Absence', 'Presence', 'Presence', 'Absence', 'Presence', 'Presence', 'Absence', 'Presence']\n"
          ]
        }
      ]
    },
    {
      "cell_type": "markdown",
      "source": [
        "## Hasil Pengujian Akurasi"
      ],
      "metadata": {
        "id": "ACua8WJBQVzb"
      }
    },
    {
      "cell_type": "code",
      "source": [
        "kelas_true = test[:, -1]\n",
        "\n",
        "ac = accuracy_score(kelas_true, kelas_prediksi)\n",
        "ac "
      ],
      "metadata": {
        "id": "GN7zMNxOvuOd",
        "outputId": "4c36a632-ac8f-4071-ae45-ecb966970d0d",
        "colab": {
          "base_uri": "https://localhost:8080/"
        }
      },
      "execution_count": 35,
      "outputs": [
        {
          "output_type": "execute_result",
          "data": {
            "text/plain": [
              "0.8703703703703703"
            ]
          },
          "metadata": {},
          "execution_count": 35
        }
      ]
    }
  ]
}